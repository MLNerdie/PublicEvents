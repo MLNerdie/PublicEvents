{
 "cells": [
  {
   "cell_type": "markdown",
   "metadata": {
    "colab_type": "text",
    "id": "XcMTyzkUbMc6"
   },
   "source": [
    "**Introduction of Natural Language Processing (NLP)**\n",
    "\n",
    "At the end of this workshop, you will be able to understand\n",
    "\n",
    "*   the basic NLP pipeline\n",
    "*   the different word embeddings and their pros and cons \n",
    "*   how to use custom stop words\n",
    "*   the implementation of NLP in Python \n",
    "*   how to use Google Colab (- if you are not already familiar :) )\n",
    "\n"
   ]
  },
  {
   "cell_type": "markdown",
   "metadata": {
    "colab_type": "text",
    "id": "BreSY3Shgnd9"
   },
   "source": [
    "## **What is NLP?** \n",
    "\n",
    "- Sub field of Computer Science and Artificial Intelligence that focuses on interactions between computer and human (natural) languages \n",
    "- Application of machine learning (ML) and deep learning (DL) algorithms to text and speech (datasets). \n",
    "- Applications: Speech recognition, machine translation, spam detection, auto complete/next word suggestion, chat bot etc. \n"
   ]
  },
  {
   "cell_type": "markdown",
   "metadata": {
    "colab_type": "text",
    "id": "uQHqntZo8yi9"
   },
   "source": [
    "# **NLP Pipeline**\n",
    "\n",
    "Here, NLP pipeline refers to the pre-processing steps that should be applied on the text data before proceeding towards the machine learning aspect of the model. \n",
    "\n",
    "For example, the **objective** of a project is identification of e-mails as spam (or non-spam). \n",
    "\n",
    "1.   Identification of *type of ML problem*: Classification (using text data)\n",
    "2.   ML algorithms: Multinomial naive bayes, Logistic Regression and Support Vector Machine\n",
    "\n",
    "Great! We have an idea about the type of problem and what possible ML algorithms to use. But before that, how do we process the text data?  \n",
    "\n",
    "Here is an outline of the steps that we could use for processig the text data:\n",
    "\n",
    "### **Text Pre-processing** \n",
    "\n",
    "1.   Spell check (- depending on the context)\n",
    "1.   Sentence Tokenization\n",
    "2.   Word Tokenization\n",
    "3.   Conversion to lower case\n",
    "4.   Lexicon Normalization: Lemmatization and Stemming \n",
    "5.   Removal of puncatuations and stop words (and numbers - depending on the context)\n",
    "6.   Parts-of-speech (POS) tagging \n",
    "7.   Feature Generation/Creation of n-grams \n",
    "\n",
    "### **Exploratory Analysis**\n",
    "\n",
    "1.   Word Cloud\n",
    "2.   Distribution of data with respect to each class \n",
    "\n",
    "### **Word Embeddings** \n",
    "\n",
    "1.   Bag-of-Words (BoW)\n",
    "2.   Term Frequency (TF)\n",
    "3.   Term Frequency - Inverse Document Frequency (TF - IDF)\n",
    "4.   Pre-trained (Neural) Word Embeddings \n",
    "\n",
    "> * Word level embeddings: Word2Vec and Glove \n",
    "> * Character level embeddings: ELMo and Flair \n",
    "\n",
    "We will explore each of these topics using a dataset. \n"
   ]
  },
  {
   "cell_type": "markdown",
   "metadata": {
    "colab_type": "text",
    "id": "vTkwt96ZLEDR"
   },
   "source": [
    "## **Resources in Python**\n",
    "\n",
    "* [NLTK](https://www.nltk.org/): Natural Language Tool Kit \n",
    "* [spaCy](https://spacy.io/)\n",
    "* [Gensim](https://github.com/RaRe-Technologies/gensim)\n",
    "-----\n",
    "* [TextBlob](https://textblob.readthedocs.io/en/dev/)\n",
    "* [CoreNLP](https://stanfordnlp.github.io/CoreNLP/)\n",
    "* [polyglot](https://polyglot.readthedocs.io/en/latest/index.html)"
   ]
  },
  {
   "cell_type": "markdown",
   "metadata": {
    "colab_type": "text",
    "id": "pHrqJsFK9caD"
   },
   "source": [
    "### **NLP Pipeline**"
   ]
  },
  {
   "cell_type": "markdown",
   "metadata": {
    "colab_type": "text",
    "id": "Q6nfRcgwIURU"
   },
   "source": [
    "#### *Spell Check*\n",
    " To check for spelling errors and to get possible alternatives for the misspelled words. \n",
    "\n",
    "\n",
    "*   Using `autocorrect` module \n",
    "*   Using `pyspellchecker` module: It uses a [*Levenshtein Distance*](https://dzone.com/articles/the-levenshtein-algorithm-1#:~:text=The%20Levenshtein%20distance%20is%20a,one%20word%20into%20the%20other.) to find permutations within an edit distance of 2 from the original word. It then compares all permutations (insertions, deletions, replacements, and transpositions) to known words in a word frequency list. Those words that are found more often in the frequency list are more likely the correct results.\n",
    "*   Using `textblob` module: returns two values – a recommended correction for this word, and a confidence score associated with the correction.\n"
   ]
  },
  {
   "cell_type": "code",
   "execution_count": null,
   "metadata": {
    "colab": {
     "base_uri": "https://localhost:8080/",
     "height": 101
    },
    "colab_type": "code",
    "id": "WitPGm0qKZ7y",
    "outputId": "b4b7e3aa-3b58-488d-a5f8-3650da11adb7"
   },
   "outputs": [
    {
     "name": "stdout",
     "output_type": "stream",
     "text": [
      "caesar\n",
      "message\n",
      "service\n",
      "the\n",
      "Let is check whether spell check works here\n"
     ]
    }
   ],
   "source": [
    "#!pip install autocorrect\n",
    "#Using autocorrect module \n",
    "from autocorrect import Speller\n",
    "\n",
    "spell = Speller(lang='en')\n",
    "\n",
    "print(spell('caaaar'))\n",
    "print(spell('mussage'))\n",
    "print(spell('survice'))\n",
    "print(spell('hte'))\n",
    "print(spell(\"Let is check whehter spel check works hree\"))  #Correct sentence: Let us check whether spell check works here\n"
   ]
  },
  {
   "cell_type": "code",
   "execution_count": null,
   "metadata": {
    "colab": {
     "base_uri": "https://localhost:8080/",
     "height": 84
    },
    "colab_type": "code",
    "id": "OMyNPkjxLTVr",
    "outputId": "4acb2882-32f9-43d1-c01d-d803cf6f32e9"
   },
   "outputs": [
    {
     "name": "stdout",
     "output_type": "stream",
     "text": [
      "group\n",
      "{'grout', 'ground', 'groin', 'grown', 'groan', 'group'}\n",
      "walk\n",
      "{'flak', 'walk', 'weak'}\n"
     ]
    }
   ],
   "source": [
    "#Using pyspellchecker \n",
    "#!pip install pyspellchecker\n",
    "from spellchecker import SpellChecker\n",
    "\n",
    "spell = SpellChecker()\n",
    "\n",
    "# find those words that may be misspelled\n",
    "misspelled = spell.unknown(['let', 'us', 'wlak','on','the','groun'])\n",
    "\n",
    "for word in misspelled:\n",
    "    # Get the one `most likely` answer\n",
    "    print(spell.correction(word))\n",
    "\n",
    "    # Get a list of `likely` options\n",
    "    print(spell.candidates(word))"
   ]
  },
  {
   "cell_type": "code",
   "execution_count": null,
   "metadata": {
    "colab": {
     "base_uri": "https://localhost:8080/",
     "height": 50
    },
    "colab_type": "code",
    "id": "T0imoi0pRhXD",
    "outputId": "10dd1f54-1f20-4a23-f51c-a4fbae650e6f"
   },
   "outputs": [
    {
     "name": "stdout",
     "output_type": "stream",
     "text": [
      "[('personal', 0.65), ('personally', 0.2642857142857143), ('peroneal', 0.06428571428571428), ('personnel', 0.014285714285714285), ('personen', 0.007142857142857143)]\n",
      "I have good spelling!\n"
     ]
    }
   ],
   "source": [
    "#!pip install textblob\n",
    "from textblob import Word\n",
    "from textblob import TextBlob\n",
    "\n",
    "word = Word('personell')\n",
    "print(word.spellcheck())\n",
    "\n",
    "b = TextBlob(\"I havv goood speling!\")\n",
    "print(b.correct())"
   ]
  },
  {
   "cell_type": "markdown",
   "metadata": {
    "colab_type": "text",
    "id": "S7_PCNYyIa1w"
   },
   "source": [
    "#### *Sentence Tokenization*\n",
    "\n",
    "To break paragraphs into sentences"
   ]
  },
  {
   "cell_type": "code",
   "execution_count": null,
   "metadata": {
    "colab": {},
    "colab_type": "code",
    "id": "QZx61sXtUAAB"
   },
   "outputs": [],
   "source": [
    "from nltk.tokenize import sent_tokenize\n",
    "\n",
    "text=\"\"\"\"Oh, Marilla, looking forward to things is half the pleasure of them,\" exclaimed Anne. \n",
    "        \"You mayn’t get the things themselves; but nothing can prevent you from having the fun of looking forward to them. \n",
    "        Mrs. Lynde says, 'Blessed are they who expect nothing for they shall not be disappointed.' \n",
    "        But I think it would be worse to expect nothing than to be disappointed.\"\"\"\n",
    "\n",
    "#Text from Anne of Green Gables\n",
    "\n",
    "tokenized_text=sent_tokenize(text)\n",
    "\n",
    "print(tokenized_text)"
   ]
  },
  {
   "cell_type": "markdown",
   "metadata": {
    "colab_type": "text",
    "id": "Yc9SXQkcIiFN"
   },
   "source": [
    "#### *Word Tokenization*\n",
    "\n",
    "To break sentences into words (or tokens)"
   ]
  },
  {
   "cell_type": "code",
   "execution_count": null,
   "metadata": {
    "colab": {
     "base_uri": "https://localhost:8080/",
     "height": 54
    },
    "colab_type": "code",
    "id": "xQ7IDcwmVROK",
    "outputId": "4ba1d64e-a389-46d9-8bab-ce1127f58ada"
   },
   "outputs": [
    {
     "name": "stdout",
     "output_type": "stream",
     "text": [
      "['``', 'Oh', ',', 'Marilla', ',', 'looking', 'forward', 'to', 'things', 'is', 'half', 'the', 'pleasure', 'of', 'them', ',', \"''\", 'exclaimed', 'Anne', '.', '``', 'You', 'mayn', '’', 't', 'get', 'the', 'things', 'themselves', ';', 'but', 'nothing', 'can', 'prevent', 'you', 'from', 'having', 'the', 'fun', 'of', 'looking', 'forward', 'to', 'them', '.', 'Mrs.', 'Lynde', 'says', ',', \"'Blessed\", 'are', 'they', 'who', 'expect', 'nothing', 'for', 'they', 'shall', 'not', 'be', 'disappointed', '.', \"'\", 'But', 'I', 'think', 'it', 'would', 'be', 'worse', 'to', 'expect', 'nothing', 'than', 'to', 'be', 'disappointed', '.']\n"
     ]
    }
   ],
   "source": [
    "from nltk.tokenize import word_tokenize\n",
    "\n",
    "tokenized_word=word_tokenize(text)\n",
    "print(tokenized_word)"
   ]
  },
  {
   "cell_type": "markdown",
   "metadata": {
    "colab_type": "text",
    "id": "O534gEh4ImGu"
   },
   "source": [
    "#### *Conversion to lower case*\n",
    "\n",
    "Converting the text (in upper case or sentence case) to lower case. \n",
    "\n",
    "1.   Helps to maintain consistency of expected output.\n",
    "2.   Maintains uniformity among different cases - easiers to search. For instance, searching for \"Canada\" may not yield results - if the text is \"canada\"\n",
    "3.   Often times, word embeddings might perform poorly \n",
    "\n"
   ]
  },
  {
   "cell_type": "code",
   "execution_count": null,
   "metadata": {
    "colab": {
     "base_uri": "https://localhost:8080/",
     "height": 84
    },
    "colab_type": "code",
    "id": "uUfJ96viWS9M",
    "outputId": "1a7ecfbc-f1d4-487a-a5d4-5e39f752cb05"
   },
   "outputs": [
    {
     "name": "stdout",
     "output_type": "stream",
     "text": [
      "\"oh, marilla, looking forward to things is half the pleasure of them,\" exclaimed anne. \n",
      "        \"you mayn’t get the things themselves; but nothing can prevent you from having the fun of looking forward to them. \n",
      "        mrs. lynde says, 'blessed are they who expect nothing for they shall not be disappointed.' \n",
      "        but i think it would be worse to expect nothing than to be disappointed.\n"
     ]
    }
   ],
   "source": [
    "lower_case_text = text.lower()\n",
    "print(lower_case_text)"
   ]
  },
  {
   "cell_type": "markdown",
   "metadata": {
    "colab_type": "text",
    "id": "YTazaia3Ip-t"
   },
   "source": [
    "#### *Removal of punctuations and stop words*\n",
    "\n",
    "Stop words such as \"a\", \"the\", \"in\" etc do not add meaning in the text analysis and are considered as noise in the data. Hence, they should be removed. Also, it is advisable to remove the punctuations and numbers (depending upon the context). \n",
    "\n",
    "P.S.: Sometimes, removing the punctuation might distort the meaning of the word. For instance, in the sentence \"you're good\" would return \"youre good\" - where the meaning of the sentence is lost "
   ]
  },
  {
   "cell_type": "code",
   "execution_count": null,
   "metadata": {
    "colab": {
     "base_uri": "https://localhost:8080/",
     "height": 87
    },
    "colab_type": "code",
    "id": "1FKtIiQUZECT",
    "outputId": "086a14a3-3500-4e88-b8a7-a100b9176a6e"
   },
   "outputs": [
    {
     "name": "stdout",
     "output_type": "stream",
     "text": [
      "{'too', 't', 'were', 'because', 'wouldn', 'can', 'yourselves', 'is', 'hadn', 'through', 'now', \"aren't\", 'or', 're', \"mustn't\", \"doesn't\", 'was', \"that'll\", 'i', 'down', 'we', 'isn', \"weren't\", 'some', 'by', 'so', \"couldn't\", 'very', 'been', 'these', 'how', 'himself', 'o', 'don', \"mightn't\", \"she's\", 'from', 'do', 'haven', 'the', 'ain', 'have', \"needn't\", 'being', 'while', 'until', 'of', 'has', 'themselves', 'at', 'not', 'are', 'myself', 'on', \"it's\", 'about', \"isn't\", 'just', 'her', 'their', 'mightn', 'then', 'where', 'than', 'they', 'nor', 'them', 'off', 'against', 'only', 'and', 'y', 've', 'weren', 'above', 'for', 'which', 'your', 'itself', 'ma', 'he', 'd', 'with', 'does', 'ourselves', 'yourself', 'an', 'what', 'below', 'other', 'such', 'aren', 'you', 'under', \"hadn't\", \"you'd\", 'once', 'own', \"should've\", 'between', 'after', 'up', 'be', 'any', 'will', 'in', 'again', 'she', \"you're\", 'here', 'this', 'when', 'won', \"shan't\", 'did', 'should', 'me', 'needn', 'as', \"didn't\", 'its', 'my', \"haven't\", 'before', 'it', 'but', 's', 'theirs', 'hers', 'into', 'further', \"wouldn't\", 'why', 'who', 'him', 'out', 'll', 'couldn', 'm', 'mustn', \"you've\", 'few', 'that', 'had', 'am', \"hasn't\", 'having', \"shouldn't\", 'same', 'doing', 'a', \"won't\", 'our', 'his', 'herself', 'doesn', 'yours', 'didn', 'no', 'shouldn', 'each', 'those', 'ours', 'most', 'whom', 'to', 'wasn', \"wasn't\", 'during', 'hasn', 'all', 'more', \"you'll\", 'if', 'both', \"don't\", 'shan', 'over', 'there'}\n",
      "Tokenized Sentence: ['``', 'Oh', ',', 'Marilla', ',', 'looking', 'forward', 'to', 'things', 'is', 'half', 'the', 'pleasure', 'of', 'them', ',', \"''\", 'exclaimed', 'Anne', '.', '``', 'You', 'mayn', '’', 't', 'get', 'the', 'things', 'themselves', ';', 'but', 'nothing', 'can', 'prevent', 'you', 'from', 'having', 'the', 'fun', 'of', 'looking', 'forward', 'to', 'them', '.', 'Mrs.', 'Lynde', 'says', ',', \"'Blessed\", 'are', 'they', 'who', 'expect', 'nothing', 'for', 'they', 'shall', 'not', 'be', 'disappointed', '.', \"'\", 'But', 'I', 'think', 'it', 'would', 'be', 'worse', 'to', 'expect', 'nothing', 'than', 'to', 'be', 'disappointed', '.']\n",
      "Filterd Sentence: ['``', 'Oh', ',', 'Marilla', ',', 'looking', 'forward', 'things', 'half', 'pleasure', ',', \"''\", 'exclaimed', 'Anne', '.', '``', 'You', 'mayn', '’', 'get', 'things', ';', 'nothing', 'prevent', 'fun', 'looking', 'forward', '.', 'Mrs.', 'Lynde', 'says', ',', \"'Blessed\", 'expect', 'nothing', 'shall', 'disappointed', '.', \"'\", 'But', 'I', 'think', 'would', 'worse', 'expect', 'nothing', 'disappointed', '.']\n"
     ]
    }
   ],
   "source": [
    "from nltk.corpus import stopwords\n",
    "stop_words=set(stopwords.words(\"english\"))\n",
    "print(stop_words)\n",
    "\n",
    "\n",
    "filtered_sent=[]\n",
    "\n",
    "for w in tokenized_word:\n",
    "    if w not in stop_words:\n",
    "        filtered_sent.append(w)\n",
    "\n",
    "print(\"Tokenized Sentence:\",tokenized_word)\n",
    "print(\"Filterd Sentence:\",filtered_sent)"
   ]
  },
  {
   "cell_type": "code",
   "execution_count": null,
   "metadata": {
    "colab": {
     "base_uri": "https://localhost:8080/",
     "height": 54
    },
    "colab_type": "code",
    "id": "7rSZqGyrbc1u",
    "outputId": "58ec7a86-22c0-4d22-9262-492829264bd5"
   },
   "outputs": [
    {
     "name": "stdout",
     "output_type": "stream",
     "text": [
      "['Oh', 'Marilla', 'looking', 'forward', 'to', 'things', 'is', 'half', 'the', 'pleasure', 'of', 'them', 'exclaimed', 'Anne', 'You', 'mayn', 't', 'get', 'the', 'things', 'themselves', 'but', 'nothing', 'can', 'prevent', 'you', 'from', 'having', 'the', 'fun', 'of', 'looking', 'forward', 'to', 'them', 'Lynde', 'says', 'are', 'they', 'who', 'expect', 'nothing', 'for', 'they', 'shall', 'not', 'be', 'disappointed', 'But', 'I', 'think', 'it', 'would', 'be', 'worse', 'to', 'expect', 'nothing', 'than', 'to', 'be', 'disappointed']\n"
     ]
    }
   ],
   "source": [
    "#Removal of punctuations\n",
    "\n",
    "words_no_punkt = [word for word in tokenized_word if word.isalpha()]\n",
    "print(words_no_punkt[:100])"
   ]
  },
  {
   "cell_type": "markdown",
   "metadata": {
    "colab_type": "text",
    "id": "-QbgBuIrInay"
   },
   "source": [
    "#### *Lexicon normalization: Lemmatization and Stemming*\n",
    "\n",
    "*Stemming*: Reduces the words to their root form by removing the derivational affixes. For instance, connection, connected, connecting word reduce to a common word \"connect\". \n",
    "\n",
    "> 1.   Porter Stemmer: Uses a set of five rules to remove the suffix (also known as suffix stripping)\n",
    "> 2.   Lancaster Stemmer: Uses an iterative algorithm that uses a set of 120 rules to remove the suffixes. The algorithm tries to find an applicable rule by the last character of the word. Each rule specifies a replacement or deletion of a terminal character. It continues till it could find no such rule. Another stopping criterion - a word starting with a vowel and with only two characters left; or a word starting with a consonant and with only three characters left. \n",
    "The process repeats till it meets one of the stopping criteria. However, this could lead to over stemming. \n",
    "\n",
    "*Lemmatization*: Reduces words to their base word (or called lemmas). Since it is based on morphological analysis, lemmatization is better than stemming. Stemmer ignores the context of the word. For example, lemma of \"better\" is \"good\" - which is missed by the stemmer. "
   ]
  },
  {
   "cell_type": "code",
   "execution_count": null,
   "metadata": {
    "colab": {
     "base_uri": "https://localhost:8080/",
     "height": 202
    },
    "colab_type": "code",
    "id": "mfHcNrHadYzc",
    "outputId": "2d2d97fb-4693-45e6-d3e3-6096727081ad"
   },
   "outputs": [
    {
     "name": "stdout",
     "output_type": "stream",
     "text": [
      "Word                Porter Stemmer      lancaster Stemmer   \n",
      "friend              friend              friend              \n",
      "friendship          friendship          friend              \n",
      "friends             friend              friend              \n",
      "friendships         friendship          friend              \n",
      "stabil              stabil              stabl               \n",
      "destabilize         destabil            dest                \n",
      "misunderstanding    misunderstand       misunderstand       \n",
      "railroad            railroad            railroad            \n",
      "moonlight           moonlight           moonlight           \n",
      "football            footbal             footbal             \n"
     ]
    }
   ],
   "source": [
    "from nltk import PorterStemmer, LancasterStemmer  #Other stemmer is LancasterStemmer; PorterStemmer is commonly used since it is simple and fast to use \n",
    "porter = PorterStemmer()\n",
    "lancaster=LancasterStemmer()\n",
    "\n",
    "#A list of words to be stemmed\n",
    "word_list = [\"friend\", \"friendship\", \"friends\", \"friendships\",\"stabil\",\"destabilize\",\"misunderstanding\",\"railroad\",\"moonlight\",\"football\"]\n",
    "print(\"{0:20}{1:20}{2:20}\".format(\"Word\",\"Porter Stemmer\",\"lancaster Stemmer\"))\n",
    "for word in word_list:\n",
    "    print(\"{0:20}{1:20}{2:20}\".format(word,porter.stem(word),lancaster.stem(word)))"
   ]
  },
  {
   "cell_type": "code",
   "execution_count": null,
   "metadata": {
    "colab": {
     "base_uri": "https://localhost:8080/",
     "height": 1000
    },
    "colab_type": "code",
    "id": "NFOalmgje2ID",
    "outputId": "3e8c506b-e5dc-48fa-aacc-8adf2d42aa16"
   },
   "outputs": [
    {
     "name": "stdout",
     "output_type": "stream",
     "text": [
      "Word                Lemma               \n",
      "Oh                  Oh                  \n",
      "Marilla             Marilla             \n",
      "looking             looking             \n",
      "forward             forward             \n",
      "to                  to                  \n",
      "things              thing               \n",
      "is                  is                  \n",
      "half                half                \n",
      "the                 the                 \n",
      "pleasure            pleasure            \n",
      "of                  of                  \n",
      "them                them                \n",
      "exclaimed           exclaimed           \n",
      "Anne                Anne                \n",
      "You                 You                 \n",
      "mayn                mayn                \n",
      "t                   t                   \n",
      "get                 get                 \n",
      "the                 the                 \n",
      "things              thing               \n",
      "themselves          themselves          \n",
      "but                 but                 \n",
      "nothing             nothing             \n",
      "can                 can                 \n",
      "prevent             prevent             \n",
      "you                 you                 \n",
      "from                from                \n",
      "having              having              \n",
      "the                 the                 \n",
      "fun                 fun                 \n",
      "of                  of                  \n",
      "looking             looking             \n",
      "forward             forward             \n",
      "to                  to                  \n",
      "them                them                \n",
      "Lynde               Lynde               \n",
      "says                say                 \n",
      "are                 are                 \n",
      "they                they                \n",
      "who                 who                 \n",
      "expect              expect              \n",
      "nothing             nothing             \n",
      "for                 for                 \n",
      "they                they                \n",
      "shall               shall               \n",
      "not                 not                 \n",
      "be                  be                  \n",
      "disappointed        disappointed        \n",
      "But                 But                 \n",
      "I                   I                   \n",
      "think               think               \n",
      "it                  it                  \n",
      "would               would               \n",
      "be                  be                  \n",
      "worse               worse               \n",
      "to                  to                  \n",
      "expect              expect              \n",
      "nothing             nothing             \n",
      "than                than                \n",
      "to                  to                  \n",
      "be                  be                  \n",
      "disappointed        disappointed        \n"
     ]
    }
   ],
   "source": [
    "from nltk.stem.wordnet import WordNetLemmatizer\n",
    "lem = WordNetLemmatizer()\n",
    "\n",
    "print(\"{0:20}{1:20}\".format(\"Word\",\"Lemma\"))\n",
    "for word in words_no_punkt:\n",
    "    print (\"{0:20}{1:20}\".format(word,lem.lemmatize(word)))"
   ]
  },
  {
   "cell_type": "code",
   "execution_count": null,
   "metadata": {
    "colab": {
     "base_uri": "https://localhost:8080/",
     "height": 1000
    },
    "colab_type": "code",
    "id": "vaOfY2_LjVgU",
    "outputId": "e1efba00-85e5-403d-c70a-23a5bc186b2c"
   },
   "outputs": [
    {
     "name": "stdout",
     "output_type": "stream",
     "text": [
      "Oh                  Oh                  \n",
      "Marilla             Marilla             \n",
      "looking             look                \n",
      "forward             forward             \n",
      "to                  to                  \n",
      "things              things              \n",
      "is                  be                  \n",
      "half                half                \n",
      "the                 the                 \n",
      "pleasure            pleasure            \n",
      "of                  of                  \n",
      "them                them                \n",
      "exclaimed           exclaim             \n",
      "Anne                Anne                \n",
      "You                 You                 \n",
      "mayn                mayn                \n",
      "t                   t                   \n",
      "get                 get                 \n",
      "the                 the                 \n",
      "things              things              \n",
      "themselves          themselves          \n",
      "but                 but                 \n",
      "nothing             nothing             \n",
      "can                 can                 \n",
      "prevent             prevent             \n",
      "you                 you                 \n",
      "from                from                \n",
      "having              have                \n",
      "the                 the                 \n",
      "fun                 fun                 \n",
      "of                  of                  \n",
      "looking             look                \n",
      "forward             forward             \n",
      "to                  to                  \n",
      "them                them                \n",
      "Lynde               Lynde               \n",
      "says                say                 \n",
      "are                 be                  \n",
      "they                they                \n",
      "who                 who                 \n",
      "expect              expect              \n",
      "nothing             nothing             \n",
      "for                 for                 \n",
      "they                they                \n",
      "shall               shall               \n",
      "not                 not                 \n",
      "be                  be                  \n",
      "disappointed        disappoint          \n",
      "But                 But                 \n",
      "I                   I                   \n",
      "think               think               \n",
      "it                  it                  \n",
      "would               would               \n",
      "be                  be                  \n",
      "worse               worse               \n",
      "to                  to                  \n",
      "expect              expect              \n",
      "nothing             nothing             \n",
      "than                than                \n",
      "to                  to                  \n",
      "be                  be                  \n",
      "disappointed        disappoint          \n"
     ]
    }
   ],
   "source": [
    "for word in words_no_punkt:\n",
    "    print (\"{0:20}{1:20}\".format(word,lem.lemmatize(word, pos=\"v\")))"
   ]
  },
  {
   "cell_type": "markdown",
   "metadata": {
    "colab_type": "text",
    "id": "A68wvoTdIq70"
   },
   "source": [
    "#### *Parts-of-speech (POS) tagging*\n",
    "\n",
    "Identifies the grammar groups (such as noun, verb, pronoun etc) in the text"
   ]
  },
  {
   "cell_type": "code",
   "execution_count": null,
   "metadata": {
    "colab": {
     "base_uri": "https://localhost:8080/",
     "height": 336
    },
    "colab_type": "code",
    "id": "q1vCzb_nkKQN",
    "outputId": "201bc564-c4c6-453e-a698-a5aed03b02b7"
   },
   "outputs": [
    {
     "name": "stdout",
     "output_type": "stream",
     "text": [
      "[nltk_data] Downloading package averaged_perceptron_tagger to\n",
      "[nltk_data]     /root/nltk_data...\n",
      "[nltk_data]   Package averaged_perceptron_tagger is already up-to-\n",
      "[nltk_data]       date!\n"
     ]
    },
    {
     "data": {
      "text/plain": [
       "[('Oh', 'UH'),\n",
       " ('Marilla', 'NNP'),\n",
       " ('looking', 'VBG'),\n",
       " ('forward', 'RB'),\n",
       " ('to', 'TO'),\n",
       " ('things', 'NNS'),\n",
       " ('is', 'VBZ'),\n",
       " ('half', 'PDT'),\n",
       " ('the', 'DT'),\n",
       " ('pleasure', 'NN'),\n",
       " ('of', 'IN'),\n",
       " ('them', 'PRP'),\n",
       " ('exclaimed', 'VBD'),\n",
       " ('Anne', 'NNP'),\n",
       " ('You', 'PRP')]"
      ]
     },
     "execution_count": 114,
     "metadata": {
      "tags": []
     },
     "output_type": "execute_result"
    }
   ],
   "source": [
    "nltk.download('averaged_perceptron_tagger')\n",
    "nltk.pos_tag(words_no_punkt[:15]) #IN- preposition; NNP- noun, proper, singular; VB - Verb; RB - adverb; TO: \"to\" as preposition or infinitive marker; \n",
    "#VBG: verb, present participle or gerund; VBD: verb, past tense\n"
   ]
  },
  {
   "cell_type": "markdown",
   "metadata": {
    "colab_type": "text",
    "id": "3ge3gsosJGvD"
   },
   "source": [
    "#### *Feature Generation/Creation of n-grams*\n",
    "\n",
    "In NLP, tokens or words are the features that are given as input to the machine learning algorithm. \n",
    "\n",
    "N-grams refer to continuous *n* words given a text. When *n* = *1, 2, 3*, then it is known as unigram, bigram and trigram, respectively. \n",
    "\n",
    "Bigram and trigrams help to maintain the context compared to unigrams. However, the performance of classifier (or any other algorithm) depends on the dataset being analysed. "
   ]
  },
  {
   "cell_type": "code",
   "execution_count": null,
   "metadata": {
    "colab": {
     "base_uri": "https://localhost:8080/",
     "height": 87
    },
    "colab_type": "code",
    "id": "i-qIjXxFFnnv",
    "outputId": "0502e885-2cb3-4fc2-cb30-faac7ce2099c"
   },
   "outputs": [
    {
     "name": "stdout",
     "output_type": "stream",
     "text": [
      "Bigrams: [('Oh', 'Marilla'), ('Marilla', 'looking'), ('looking', 'forward'), ('forward', 'to'), ('to', 'things'), ('things', 'is'), ('is', 'half'), ('half', 'the'), ('the', 'pleasure'), ('pleasure', 'of'), ('of', 'them'), ('them', 'exclaimed'), ('exclaimed', 'Anne'), ('Anne', 'You'), ('You', 'mayn'), ('mayn', 't'), ('t', 'get'), ('get', 'the'), ('the', 'things'), ('things', 'themselves'), ('themselves', 'but'), ('but', 'nothing'), ('nothing', 'can'), ('can', 'prevent'), ('prevent', 'you'), ('you', 'from'), ('from', 'having'), ('having', 'the'), ('the', 'fun'), ('fun', 'of'), ('of', 'looking'), ('looking', 'forward'), ('forward', 'to'), ('to', 'them'), ('them', 'Lynde'), ('Lynde', 'says'), ('says', 'are'), ('are', 'they'), ('they', 'who'), ('who', 'expect'), ('expect', 'nothing'), ('nothing', 'for'), ('for', 'they'), ('they', 'shall'), ('shall', 'not'), ('not', 'be'), ('be', 'disappointed'), ('disappointed', 'But'), ('But', 'I'), ('I', 'think'), ('think', 'it'), ('it', 'would'), ('would', 'be'), ('be', 'worse'), ('worse', 'to'), ('to', 'expect'), ('expect', 'nothing'), ('nothing', 'than'), ('than', 'to'), ('to', 'be'), ('be', 'disappointed')]\n",
      "Trigrams: [('Oh', 'Marilla', 'looking'), ('Marilla', 'looking', 'forward'), ('looking', 'forward', 'to'), ('forward', 'to', 'things'), ('to', 'things', 'is'), ('things', 'is', 'half'), ('is', 'half', 'the'), ('half', 'the', 'pleasure'), ('the', 'pleasure', 'of'), ('pleasure', 'of', 'them'), ('of', 'them', 'exclaimed'), ('them', 'exclaimed', 'Anne'), ('exclaimed', 'Anne', 'You'), ('Anne', 'You', 'mayn'), ('You', 'mayn', 't'), ('mayn', 't', 'get'), ('t', 'get', 'the'), ('get', 'the', 'things'), ('the', 'things', 'themselves'), ('things', 'themselves', 'but'), ('themselves', 'but', 'nothing'), ('but', 'nothing', 'can'), ('nothing', 'can', 'prevent'), ('can', 'prevent', 'you'), ('prevent', 'you', 'from'), ('you', 'from', 'having'), ('from', 'having', 'the'), ('having', 'the', 'fun'), ('the', 'fun', 'of'), ('fun', 'of', 'looking'), ('of', 'looking', 'forward'), ('looking', 'forward', 'to'), ('forward', 'to', 'them'), ('to', 'them', 'Lynde'), ('them', 'Lynde', 'says'), ('Lynde', 'says', 'are'), ('says', 'are', 'they'), ('are', 'they', 'who'), ('they', 'who', 'expect'), ('who', 'expect', 'nothing'), ('expect', 'nothing', 'for'), ('nothing', 'for', 'they'), ('for', 'they', 'shall'), ('they', 'shall', 'not'), ('shall', 'not', 'be'), ('not', 'be', 'disappointed'), ('be', 'disappointed', 'But'), ('disappointed', 'But', 'I'), ('But', 'I', 'think'), ('I', 'think', 'it'), ('think', 'it', 'would'), ('it', 'would', 'be'), ('would', 'be', 'worse'), ('be', 'worse', 'to'), ('worse', 'to', 'expect'), ('to', 'expect', 'nothing'), ('expect', 'nothing', 'than'), ('nothing', 'than', 'to'), ('than', 'to', 'be'), ('to', 'be', 'disappointed')]\n",
      "Combination of unigram and bigram: [('Oh',), ('Marilla',), ('looking',), ('forward',), ('to',), ('things',), ('is',), ('half',), ('the',), ('pleasure',), ('of',), ('them',), ('exclaimed',), ('Anne',), ('You',), ('mayn',), ('t',), ('get',), ('the',), ('things',), ('themselves',), ('but',), ('nothing',), ('can',), ('prevent',), ('you',), ('from',), ('having',), ('the',), ('fun',), ('of',), ('looking',), ('forward',), ('to',), ('them',), ('Lynde',), ('says',), ('are',), ('they',), ('who',), ('expect',), ('nothing',), ('for',), ('they',), ('shall',), ('not',), ('be',), ('disappointed',), ('But',), ('I',), ('think',), ('it',), ('would',), ('be',), ('worse',), ('to',), ('expect',), ('nothing',), ('than',), ('to',), ('be',), ('disappointed',), ('Oh', 'Marilla'), ('Marilla', 'looking'), ('looking', 'forward'), ('forward', 'to'), ('to', 'things'), ('things', 'is'), ('is', 'half'), ('half', 'the'), ('the', 'pleasure'), ('pleasure', 'of'), ('of', 'them'), ('them', 'exclaimed'), ('exclaimed', 'Anne'), ('Anne', 'You'), ('You', 'mayn'), ('mayn', 't'), ('t', 'get'), ('get', 'the'), ('the', 'things'), ('things', 'themselves'), ('themselves', 'but'), ('but', 'nothing'), ('nothing', 'can'), ('can', 'prevent'), ('prevent', 'you'), ('you', 'from'), ('from', 'having'), ('having', 'the'), ('the', 'fun'), ('fun', 'of'), ('of', 'looking'), ('looking', 'forward'), ('forward', 'to'), ('to', 'them'), ('them', 'Lynde'), ('Lynde', 'says'), ('says', 'are'), ('are', 'they'), ('they', 'who'), ('who', 'expect'), ('expect', 'nothing'), ('nothing', 'for'), ('for', 'they'), ('they', 'shall'), ('shall', 'not'), ('not', 'be'), ('be', 'disappointed'), ('disappointed', 'But'), ('But', 'I'), ('I', 'think'), ('think', 'it'), ('it', 'would'), ('would', 'be'), ('be', 'worse'), ('worse', 'to'), ('to', 'expect'), ('expect', 'nothing'), ('nothing', 'than'), ('than', 'to'), ('to', 'be'), ('be', 'disappointed')]\n"
     ]
    }
   ],
   "source": [
    "from nltk.util import ngrams\n",
    "from nltk import bigrams, trigrams, everygrams\n",
    "\n",
    "bigrams = ngrams(words_no_punkt,2)\n",
    "print(\"Bigrams:\", list(bigrams))\n",
    "trigrams = ngrams(words_no_punkt,3)\n",
    "print(\"Trigrams:\", list(trigrams))\n",
    "unigram_bigram = everygrams(words_no_punkt, 1, 2)\n",
    "print(\"Combination of unigram and bigram:\", list(unigram_bigram))\n"
   ]
  },
  {
   "cell_type": "markdown",
   "metadata": {
    "colab_type": "text",
    "id": "09NXpVprqU2p"
   },
   "source": [
    "### **Exploratory Analysis**\n",
    "\n",
    "Frequency distribution of the words/tokens"
   ]
  },
  {
   "cell_type": "code",
   "execution_count": null,
   "metadata": {
    "colab": {
     "base_uri": "https://localhost:8080/",
     "height": 34
    },
    "colab_type": "code",
    "id": "R5PmKN7PqobU",
    "outputId": "a8036317-3a85-4f4b-ff02-a15f8199a5c4"
   },
   "outputs": [
    {
     "name": "stdout",
     "output_type": "stream",
     "text": [
      "<FreqDist with 45 samples and 62 outcomes>\n"
     ]
    }
   ],
   "source": [
    "from nltk.probability import FreqDist\n",
    "fdist = FreqDist(words_no_punkt)\n",
    "print(fdist)"
   ]
  },
  {
   "cell_type": "code",
   "execution_count": null,
   "metadata": {
    "colab": {
     "base_uri": "https://localhost:8080/",
     "height": 34
    },
    "colab_type": "code",
    "id": "V6dzKc8UrliX",
    "outputId": "5c23ab5b-3157-4ded-cad8-1203a498c61c"
   },
   "outputs": [
    {
     "data": {
      "text/plain": [
       "[('to', 4), ('the', 3)]"
      ]
     },
     "execution_count": 124,
     "metadata": {
      "tags": []
     },
     "output_type": "execute_result"
    }
   ],
   "source": [
    "fdist.most_common(2)"
   ]
  },
  {
   "cell_type": "code",
   "execution_count": null,
   "metadata": {
    "colab": {
     "base_uri": "https://localhost:8080/",
     "height": 329
    },
    "colab_type": "code",
    "id": "Iv3OTqfSruTr",
    "outputId": "54836da6-de6f-4a8b-a114-d2a277513b6d"
   },
   "outputs": [
    {
     "data": {
      "image/png": "[encoded data removed]",
      "text/plain": [
       "<Figure size 432x288 with 1 Axes>"
      ]
     },
     "metadata": {
      "needs_background": "light",
      "tags": []
     },
     "output_type": "display_data"
    }
   ],
   "source": [
    "# Frequency Distribution Plot\n",
    "%matplotlib inline\n",
    "import matplotlib.pyplot as plt\n",
    "fdist.plot(30,cumulative=False)\n",
    "plt.show()"
   ]
  },
  {
   "cell_type": "markdown",
   "metadata": {
    "colab_type": "text",
    "id": "DzI9lPVpqqR6"
   },
   "source": [
    "### Word Embeddings \n",
    "\n",
    "Word embeddings are the dense representation of the words into vector forms. Sometimes, they are used to understand the hidden relationship between the words. \n",
    "\n",
    "For instance, if we subtract \"*man-ness*\" from \"*king*\" and add \"*woman-ness*\", then the resulting word would be \"*queen*\". This helps to capture the analogy - king is to queen as man is to woman. "
   ]
  },
  {
   "cell_type": "markdown",
   "metadata": {
    "colab_type": "text",
    "id": "lErwZJF6uza1"
   },
   "source": [
    "#### Bag-of-Words (BoW) and Bag-of-ngrams\n",
    "\n",
    "BoW extracts words (or features) - unigrams - from the text to be used as input to machine learning models. It works on the intuition that two documents are similar if they consist of similar content. When the bigram or trigram (or ngram) features are extracted, then it is called ***bag-of-ngrams***.  \n",
    "\n",
    "Different feature representations are: \n",
    "\n",
    "\n",
    "1.   One-hot encoding\n",
    "2.   Word Count \n",
    "3.   Term Frequency \n",
    "\n",
    "Advantages: \n",
    "*   Simple and easy to understand and use\n",
    "\n",
    "Disadvantages: \n",
    "*   Does not consider the order of the words in the text \n",
    "*   Vector size increases with increase in the number of words \n",
    "*   Results in sparse matrix, hence, needs large computational resources when the number of document increases\n",
    "\n",
    "\n"
   ]
  },
  {
   "cell_type": "code",
   "execution_count": null,
   "metadata": {
    "colab": {
     "base_uri": "https://localhost:8080/",
     "height": 286
    },
    "colab_type": "code",
    "id": "jzF1_Iqi3z-O",
    "outputId": "7d38c263-845e-4442-ca49-dcc3ba1e5bfb"
   },
   "outputs": [
    {
     "name": "stdout",
     "output_type": "stream",
     "text": [
      "['it', 'was', 'the', 'best', 'of', 'times']\n",
      "['it', 'was', 'the', 'worst', 'of', 'times']\n",
      "[1 5 3 0 2 4]\n",
      "[0 4 2 5 1 3]\n",
      "[[0. 1. 0. 0. 0. 0.]\n",
      " [0. 0. 0. 0. 0. 1.]\n",
      " [0. 0. 0. 1. 0. 0.]\n",
      " [1. 0. 0. 0. 0. 0.]\n",
      " [0. 0. 1. 0. 0. 0.]\n",
      " [0. 0. 0. 0. 1. 0.]]\n",
      "[[1. 0. 0. 0. 0. 0.]\n",
      " [0. 0. 0. 0. 1. 0.]\n",
      " [0. 0. 1. 0. 0. 0.]\n",
      " [0. 0. 0. 0. 0. 1.]\n",
      " [0. 1. 0. 0. 0. 0.]\n",
      " [0. 0. 0. 1. 0. 0.]]\n"
     ]
    }
   ],
   "source": [
    "#One-hot encoding \n",
    "import numpy as np\n",
    "from numpy import argmax\n",
    "from sklearn.preprocessing import LabelEncoder\n",
    "from sklearn.preprocessing import OneHotEncoder\n",
    "from nltk.tokenize import word_tokenize\n",
    "\n",
    "#Taken from A Tale of Two Cities \n",
    "data1 = \"it was the best of times\"\n",
    "data2 = \"it was the worst of times\"\n",
    "data3 = \"it was the age of wisdom\"\n",
    "data4 = \"it was the age of foolishness\"\n",
    "\n",
    "tokenized_word1=word_tokenize(data1)\n",
    "print(tokenized_word1)\n",
    "tokenized_word2=word_tokenize(data2)\n",
    "print(tokenized_word2)\n",
    "\n",
    "values1 = np.array(tokenized_word1)\n",
    "values2 = np.array(tokenized_word2)\n",
    "\n",
    "# integer encode\n",
    "label_encoder = LabelEncoder()\n",
    "integer_encoded1 = label_encoder.fit_transform(values1)\n",
    "print(integer_encoded1)\n",
    "integer_encoded2 = label_encoder.fit_transform(values2)\n",
    "print(integer_encoded2)\n",
    "\n",
    "# binary encode\n",
    "onehot_encoder = OneHotEncoder(sparse=False)\n",
    "integer_encoded1 = integer_encoded1.reshape(len(integer_encoded1), 1)\n",
    "onehot_encoded1 = onehot_encoder.fit_transform(integer_encoded1)\n",
    "print(onehot_encoded1)\n",
    "\n",
    "integer_encoded2 = integer_encoded2.reshape(len(integer_encoded2), 1)\n",
    "onehot_encoded2 = onehot_encoder.fit_transform(integer_encoded2)\n",
    "print(onehot_encoded2)\n"
   ]
  },
  {
   "cell_type": "code",
   "execution_count": null,
   "metadata": {
    "colab": {
     "base_uri": "https://localhost:8080/",
     "height": 84
    },
    "colab_type": "code",
    "id": "95hhSKaw7Qu6",
    "outputId": "96c3a13f-d885-4494-c277-7bce5c6f875c"
   },
   "outputs": [
    {
     "name": "stdout",
     "output_type": "stream",
     "text": [
      "{'it': 1, 'was': 5, 'the': 3, 'best': 0, 'of': 2, 'times': 4, 'worst': 6}\n",
      "(1, 7)\n",
      "<class 'scipy.sparse.csr.csr_matrix'>\n",
      "[[1 2 2 2 2 2 1]]\n"
     ]
    }
   ],
   "source": [
    "#Count of number of times a word occurs in a document \n",
    "# ome words like “the” will appear many times and their large counts will not be very meaningful in the encoded vectors.\n",
    "\n",
    "from sklearn.feature_extraction.text import CountVectorizer\n",
    "\n",
    "text = [\"it was the best of times it was the worst of times\"]\n",
    "# create the transform\n",
    "vectorizer = CountVectorizer()\n",
    "# tokenize and build vocab\n",
    "vectorizer.fit(text)\n",
    "# summarize\n",
    "print(vectorizer.vocabulary_)\n",
    "# encode document\n",
    "vector = vectorizer.transform(text)\n",
    "# summarize encoded vector\n",
    "print(vector.shape)\n",
    "print(type(vector))\n",
    "print(vector.toarray())"
   ]
  },
  {
   "cell_type": "markdown",
   "metadata": {
    "colab_type": "text",
    "id": "CCihGQCGu83x"
   },
   "source": [
    "#### Term Frequency (TF)\n",
    "\n",
    "TF refers how often a given word appears in a document. TF of a term t is calculated as:\n",
    "\n",
    "TF(t) = (Number of times term t appears in a document) / (Total number of terms in the document) "
   ]
  },
  {
   "cell_type": "code",
   "execution_count": null,
   "metadata": {
    "colab": {
     "base_uri": "https://localhost:8080/",
     "height": 34
    },
    "colab_type": "code",
    "id": "dntax6JivSFb",
    "outputId": "fcbd065b-3c9e-4239-816a-cf6c76613ae3"
   },
   "outputs": [
    {
     "name": "stdout",
     "output_type": "stream",
     "text": [
      "times 1.7142857142857142\n"
     ]
    }
   ],
   "source": [
    "from nltk.tokenize import sent_tokenize, word_tokenize\n",
    "# list of text documents\n",
    "text = \"it was the best of times it was the worst of times\"\n",
    "tokenized_text = word_tokenize(text)\n",
    "\n",
    "from nltk import ngrams, FreqDist\n",
    "counts  = FreqDist()\n",
    "tokens = FreqDist()\n",
    "\n",
    "for word in tokenized_text:\n",
    "    counts['words'] += 1\n",
    "    tokens[word] += 1\n",
    "\n",
    "print(word, float(counts['words']) / float(len(tokens)))\n",
    "\n"
   ]
  },
  {
   "cell_type": "markdown",
   "metadata": {
    "colab_type": "text",
    "id": "UQeAsbGhu7j_"
   },
   "source": [
    "#### Term Frequency - Inverse Document Frequency (TF - IDF)\n",
    "\n",
    "* TF-IDF are word frequency scores that try to highlight words that are more interesting, e.g. frequent in a document but not across documents.\n",
    "* TF-IDF is commonly used for document search and information retrieval. \n",
    "* Tf-IDF is the product of TF and IDF \n",
    "\n",
    "IDF is calculated as: \n",
    "\n",
    "IDF(t) = log_e(Total number of documents / Number of documents with term *t* in it)"
   ]
  },
  {
   "cell_type": "code",
   "execution_count": null,
   "metadata": {
    "colab": {
     "base_uri": "https://localhost:8080/",
     "height": 118
    },
    "colab_type": "code",
    "id": "uQUSu6P9vToi",
    "outputId": "6f501c41-b419-4cc5-8114-f2b6af1743e4"
   },
   "outputs": [
    {
     "name": "stdout",
     "output_type": "stream",
     "text": [
      "{'it': 3, 'was': 7, 'the': 5, 'best': 1, 'of': 4, 'times': 6, 'worst': 9, 'age': 0, 'wisdom': 8, 'foolishness': 2}\n",
      "[1.51082562 1.91629073 1.91629073 1.         1.         1.\n",
      " 1.51082562 1.         1.91629073 1.91629073]\n",
      "(1, 10)\n",
      "[[0.         0.60735961 0.         0.31694544 0.31694544 0.31694544\n",
      "  0.4788493  0.31694544 0.         0.        ]]\n"
     ]
    }
   ],
   "source": [
    "from sklearn.feature_extraction.text import TfidfVectorizer\n",
    "# list of text documents\n",
    "text = [\"it was the best of times\", \"it was the worst of times\", \"it was the age of wisdom\", \"it was the age of foolishness\"]\n",
    "\n",
    "# create the transform\n",
    "vectorizer = TfidfVectorizer()\n",
    "# tokenize and build vocab\n",
    "vectorizer.fit(text)\n",
    "# summarize\n",
    "print(vectorizer.vocabulary_)\n",
    "print(vectorizer.idf_)\n",
    "# encode document\n",
    "vector = vectorizer.transform([text[0]])\n",
    "# summarize encoded vector\n",
    "print(vector.shape)\n",
    "print(vector.toarray())"
   ]
  },
  {
   "cell_type": "markdown",
   "metadata": {
    "colab_type": "text",
    "id": "kK3cuQtovDq0"
   },
   "source": [
    "#### **Pre-trained (Neural) Word Embeddings**\n",
    "\n",
    "There are two (widely used) pre-trained word embeddings:\n",
    "\n",
    "1.   Word2Vec\n",
    "2.   GloVe: Global Vectors\n",
    "\n"
   ]
  },
  {
   "cell_type": "markdown",
   "metadata": {
    "colab_type": "text",
    "id": "rinndtTiIMS_"
   },
   "source": [
    "##### **Word2Vec**\n",
    "\n",
    "*   Developed by Google \n",
    "*   Trained on the Google News dataset (about 100 billion words)\n",
    "*   Shallow network architecture: feed-forward neural network with just one hidden layer\n",
    "*   Based on how the embeddings are learned, it is classified into two categories \n",
    " \n",
    "> 1.   Skip-gram model\n",
    "> 2.   Continuous Bag of Words (CBoW)\n",
    " \n",
    "\n",
    "\n",
    "1. *Skip-gram model*\n",
    "\n",
    ">*  Learns the context word given the target word. \n",
    ">*   Consider a sliding window of fixed size. Move this along the sentence. Suppose the word in the middle is the target. The model tries to predict the probability of a word being the context word given the target word. \n",
    "\n",
    ">> \"Wisdom comes to us when it can no longer do any good\" -Gabriel Garcia Marquez \n",
    "\n",
    ">> ![image.png](data:image/png;base64,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)\n",
    "\n",
    "Each context-target pair is treated as a new observation in the data. For example, the target word “wisdom” in the above case produces four training samples: (“wisdom”, “comes”), (“wisdom”, “to”). \n",
    "\n",
    "2. *Continuous Bag of Words*\n",
    "\n",
    ">*   Learns the target word given the context words.\n",
    ">*   Kind of - inverse of skip-gram model \n",
    "\n",
    ">> ![image.png](data:image/png;base64,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)\n",
    "\n"
   ]
  },
  {
   "cell_type": "code",
   "execution_count": null,
   "metadata": {
    "colab": {
     "base_uri": "https://localhost:8080/",
     "height": 574
    },
    "colab_type": "code",
    "id": "I5t4S4t5XllQ",
    "outputId": "5250d740-4ceb-4679-d528-422edc7020ed"
   },
   "outputs": [
    {
     "name": "stdout",
     "output_type": "stream",
     "text": [
      "Word2Vec(vocab=14, size=100, alpha=0.025)\n",
      "['this', 'is', 'the', 'first', 'sentence', 'for', 'word2vec', 'second', 'yet', 'another', 'one', 'more', 'and', 'final']\n",
      "[-1.4378970e-03  3.0764856e-03  2.9276148e-03 -4.9450533e-03\n",
      "  2.0107781e-03 -1.8431809e-03  1.6418458e-03  4.6357125e-04\n",
      "  2.2024242e-03  3.8661100e-03 -1.3890365e-04 -2.7158966e-03\n",
      " -2.7144917e-03 -3.0125929e-03 -2.6333255e-03  2.9547650e-03\n",
      "  1.4944850e-03 -2.6413680e-03  4.5101326e-03  2.3136917e-03\n",
      " -1.5448665e-03 -4.4304423e-05 -8.4578397e-04 -2.8797542e-04\n",
      " -1.2231672e-03 -3.2684351e-03 -1.9580941e-03 -1.2245138e-04\n",
      "  3.6070282e-03 -1.1419374e-03 -3.7864610e-03 -1.9217367e-04\n",
      " -8.8314514e-04  1.7192659e-03 -3.6826103e-03  1.5969935e-03\n",
      "  6.8358891e-04 -2.2593713e-03  2.1194667e-03 -2.1907841e-03\n",
      " -9.4898965e-04  4.2870701e-03 -1.6634532e-03 -1.4693035e-03\n",
      "  2.0512505e-03  2.0368437e-03 -3.0659125e-03  3.0382189e-03\n",
      " -2.9056268e-03  2.2495701e-03 -4.5528151e-03  3.5486750e-03\n",
      "  2.2920961e-03  1.3236275e-03  2.7479937e-03  1.6429345e-03\n",
      " -2.2387560e-03  2.4003198e-03  4.5821597e-03 -4.0699230e-03\n",
      "  4.9903630e-03  7.5422594e-04  4.4698114e-04  3.2174112e-03\n",
      " -4.6280269e-03 -9.0584414e-05  9.2081720e-04 -4.6197707e-03\n",
      "  3.5427421e-04 -7.9708603e-05 -3.1793278e-03  2.9064314e-03\n",
      " -4.4471859e-03  4.2979000e-03  3.9859605e-03 -3.5621424e-04\n",
      "  1.8280611e-04  8.7956159e-04 -4.9707345e-03  4.9332008e-03\n",
      "  3.4190146e-03  1.3843059e-03  2.8765059e-04  4.3741670e-03\n",
      " -2.2662145e-03 -2.9084461e-03  4.6381056e-03  3.5943447e-03\n",
      " -1.6550269e-03  1.4289208e-03 -2.5823624e-03  2.5295208e-03\n",
      " -8.6615840e-04 -3.9050833e-03  2.9706727e-03  7.7094242e-05\n",
      "  1.7855441e-03  1.8343552e-03  2.5325993e-03  3.6657054e-03]\n",
      "Word2Vec(vocab=14, size=100, alpha=0.025)\n"
     ]
    },
    {
     "name": "stderr",
     "output_type": "stream",
     "text": [
      "/usr/local/lib/python3.6/dist-packages/ipykernel_launcher.py:16: DeprecationWarning: Call to deprecated `__getitem__` (Method will be removed in 4.0.0, use self.wv.__getitem__() instead).\n",
      "  app.launch_new_instance()\n",
      "/usr/local/lib/python3.6/dist-packages/smart_open/smart_open_lib.py:253: UserWarning: This function is deprecated, use smart_open.open instead. See the migration notes for details: https://github.com/RaRe-Technologies/smart_open/blob/master/README.rst#migrating-to-the-new-open-function\n",
      "  'See the migration notes for details: %s' % _MIGRATION_NOTES_URL\n"
     ]
    }
   ],
   "source": [
    "from gensim.models import Word2Vec\n",
    "# define training data\n",
    "sentences = [['this', 'is', 'the', 'first', 'sentence', 'for', 'word2vec'],\n",
    "\t\t\t['this', 'is', 'the', 'second', 'sentence'],\n",
    "\t\t\t['yet', 'another', 'sentence'],\n",
    "\t\t\t['one', 'more', 'sentence'],\n",
    "\t\t\t['and', 'the', 'final', 'sentence']]\n",
    "# train model\n",
    "model = Word2Vec(sentences, min_count=1)\n",
    "# summarize the loaded model\n",
    "print(model)\n",
    "# summarize vocabulary\n",
    "words = list(model.wv.vocab)\n",
    "print(words)\n",
    "# access vector for one word\n",
    "print(model['sentence'])\n",
    "# save model\n",
    "model.save('model.bin')\n",
    "# load model\n",
    "new_model = Word2Vec.load('model.bin')\n",
    "print(new_model)"
   ]
  },
  {
   "cell_type": "markdown",
   "metadata": {
    "colab_type": "text",
    "id": "PaItLJftIOtz"
   },
   "source": [
    "##### **GloVe: Global Vectors**\n",
    "\n",
    "*   Developed by researchers at Stanford\n",
    "*   Intuition is to obtain the relationship between the words using Global statistics \n",
    "*   Uses the concept of co-occurence of words i.e., words that occur together in a sentence. \n",
    "\n",
    "Let us understand the concept by taking an example: Consider a collection of text (also known as corpus) - \"I enjoy eating chocolates, I love chocolates and I love ice-creams\"\n",
    "\n",
    "We would obtain the following co-occurence matrix: \n",
    "\n",
    "![image.png](data:image/png;base64,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)\n",
    "\n",
    "Intuition is the it is easier to capture the word meanings by using the ratios of co-occurence probabilities rather than the probabilites themselves. \n",
    "\n",
    "So, here, we want to obtain the relationship between two words: \"enjoy\" and \"love\". We determine the same by considering the third context word (i.e., chocolates in our example).\n",
    "\n",
    "Calculating the probability of a pair of words: \n",
    "\n",
    "Pco (wk|wi) = C(wi,wk)|C(wi) \n",
    "\n",
    "wi = enjoy; wj = love; wk = chocolates\n",
    "\n",
    "P(chocolates/enjoy) = C(chocolates, enjoy)|C(enjoy) = 1/1 = 1\n",
    "\n",
    "P(chocolates/love) = C(chocolates, love)|C(love) = 1/2 = 0.5\n",
    " \n",
    "\n",
    "The global vector relationship is \n",
    "\n",
    "\n",
    "![image.png](data:image/png;base64,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)\n",
    "\n",
    "P(chocolate|enjoy) / P(chocolate|love) = 1/0.5 = 2\n",
    "\n",
    "Since the ratio is greater than 1, the most related word to \"enjoy\" is \"love\" as compared to \"chocolate\". If the ratio is close to one, then both \"love\" and \"chocolate\" are equally related to \"enjoy\"\n",
    "\n",
    "\n",
    "\n",
    "\n",
    "\n",
    "\n"
   ]
  },
  {
   "cell_type": "code",
   "execution_count": null,
   "metadata": {
    "colab": {
     "base_uri": "https://localhost:8080/",
     "height": 229
    },
    "colab_type": "code",
    "id": "q42RQIjNUzwE",
    "outputId": "344c2b36-8cf2-446f-9773-f2f3590afeee"
   },
   "outputs": [
    {
     "ename": "NameError",
     "evalue": "ignored",
     "output_type": "error",
     "traceback": [
      "\u001b[0;31m---------------------------------------------------------------------------\u001b[0m",
      "\u001b[0;31mNameError\u001b[0m                                 Traceback (most recent call last)",
      "\u001b[0;32m<ipython-input-11-a84d530a3949>\u001b[0m in \u001b[0;36m<module>\u001b[0;34m()\u001b[0m\n\u001b[1;32m      5\u001b[0m \u001b[0;34m\u001b[0m\u001b[0m\n\u001b[1;32m      6\u001b[0m \u001b[0;34m\u001b[0m\u001b[0m\n\u001b[0;32m----> 7\u001b[0;31m \u001b[0mword_embedding\u001b[0m \u001b[0;34m=\u001b[0m \u001b[0mglove\u001b[0m\u001b[0;34m.\u001b[0m\u001b[0mGlove\u001b[0m\u001b[0;34m.\u001b[0m\u001b[0mload_stanford\u001b[0m\u001b[0;34m(\u001b[0m \u001b[0mglove_100k_50d_path\u001b[0m \u001b[0;34m)\u001b[0m\u001b[0;34m\u001b[0m\u001b[0;34m\u001b[0m\u001b[0m\n\u001b[0m\u001b[1;32m      8\u001b[0m \u001b[0mword_embedding\u001b[0m\u001b[0;34m.\u001b[0m\u001b[0mword_vectors\u001b[0m\u001b[0;34m.\u001b[0m\u001b[0mshape\u001b[0m\u001b[0;34m\u001b[0m\u001b[0;34m\u001b[0m\u001b[0m\n\u001b[1;32m      9\u001b[0m \u001b[0;34m\u001b[0m\u001b[0m\n",
      "\u001b[0;31mNameError\u001b[0m: name 'glove_100k_50d_path' is not defined"
     ]
    }
   ],
   "source": [
    "#! pip install glove_python\n",
    "import itertools\n",
    "from gensim.models.word2vec import Text8Corpus\n",
    "import glove\n",
    " \n",
    " \n",
    "word_embedding = glove.Glove.load_stanford(glove_100k_50d_path)\n",
    "word_embedding.word_vectors.shape\n",
    "\n",
    "word_embedding.most_similar('king')\n",
    "\n",
    "#Code to be updated"
   ]
  },
  {
   "cell_type": "markdown",
   "metadata": {
    "colab_type": "text",
    "id": "0j57FI8DVitF"
   },
   "source": [
    "## **Classification of Real and Fake News**\n",
    "\n",
    "To classify whether a news article is fake or real.\n",
    " \n",
    "Data source: [Kaggle](https://www.kaggle.com/clmentbisaillon/fake-and-real-news-dataset?select=Fake.csv)"
   ]
  },
  {
   "cell_type": "code",
   "execution_count": null,
   "metadata": {
    "colab": {
     "base_uri": "https://localhost:8080/",
     "height": 118
    },
    "colab_type": "code",
    "id": "CaudFkHQbEMS",
    "outputId": "042c00bd-6f6e-4b57-8624-6c72563e2d8e"
   },
   "outputs": [
    {
     "name": "stdout",
     "output_type": "stream",
     "text": [
      "[nltk_data] Downloading package stopwords to /root/nltk_data...\n",
      "[nltk_data]   Unzipping corpora/stopwords.zip.\n",
      "[nltk_data] Downloading package wordnet to /root/nltk_data...\n",
      "[nltk_data]   Unzipping corpora/wordnet.zip.\n",
      "[nltk_data] Downloading package punkt to /root/nltk_data...\n",
      "[nltk_data]   Unzipping tokenizers/punkt.zip.\n"
     ]
    }
   ],
   "source": [
    "import warnings \n",
    "warnings.simplefilter(\"ignore\")\n",
    "\n",
    "import os \n",
    "from google.colab import files\n",
    "\n",
    "import pandas as pd \n",
    "import numpy as np \n",
    "\n",
    "#nltk\n",
    "import nltk\n",
    "nltk.download('stopwords')\n",
    "nltk.download('wordnet')\n",
    "nltk.download('punkt')\n",
    "from nltk.corpus import stopwords \n",
    "from nltk import word_tokenize\n",
    "stop_words = set(stopwords.words('english'))\n",
    "\n",
    "#Feature extraction\n",
    "from sklearn.feature_extraction.text import TfidfVectorizer, CountVectorizer, TfidfTransformer\n",
    "\n",
    "#Classifiers\n",
    "from sklearn.linear_model import SGDClassifier\n",
    "from sklearn.linear_model import LogisticRegression\n",
    "from sklearn.naive_bayes import MultinomialNB\n",
    "from sklearn.ensemble import RandomForestClassifier, AdaBoostClassifier, ExtraTreesClassifier\n",
    "from sklearn.neighbors import KNeighborsClassifier\n",
    "from sklearn.multiclass import OneVsRestClassifier\n",
    "from sklearn.svm import SVC,  LinearSVC\n",
    "from sklearn import svm\n",
    "from sklearn.naive_bayes import GaussianNB\n",
    "from sklearn.model_selection import StratifiedKFold\n",
    "\n",
    "#Performance metrics\n",
    "from sklearn.model_selection import KFold\n",
    "from sklearn.metrics import accuracy_score, precision_score, recall_score, f1_score, roc_curve, auc, confusion_matrix\n",
    "from sklearn.metrics import classification_report\n",
    "from sklearn.metrics import precision_recall_fscore_support as score\n",
    "from sklearn.metrics import precision_recall_fscore_support"
   ]
  },
  {
   "cell_type": "code",
   "execution_count": null,
   "metadata": {
    "colab": {
     "base_uri": "https://localhost:8080/",
     "height": 106,
     "resources": {
      "http://localhost:8080/nbextensions/google.colab/files.js": {
       "data": "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",
       "headers": [
        [
         "content-type",
         "application/javascript"
        ]
       ],
       "ok": true,
       "status": 200,
       "status_text": ""
      }
     }
    },
    "colab_type": "code",
    "id": "Z-e2PUXshrZt",
    "outputId": "4462803c-efdb-4b3c-bf00-51b8424d2499"
   },
   "outputs": [
    {
     "data": {
      "text/html": [
       "\n",
       "     <input type=\"file\" id=\"files-7cc78d19-4aad-417e-ad72-a52d558a266d\" name=\"files[]\" multiple disabled\n",
       "        style=\"border:none\" />\n",
       "     <output id=\"result-7cc78d19-4aad-417e-ad72-a52d558a266d\">\n",
       "      Upload widget is only available when the cell has been executed in the\n",
       "      current browser session. Please rerun this cell to enable.\n",
       "      </output>\n",
       "      <script src=\"/nbextensions/google.colab/files.js\"></script> "
      ],
      "text/plain": [
       "<IPython.core.display.HTML object>"
      ]
     },
     "metadata": {
      "tags": []
     },
     "output_type": "display_data"
    },
    {
     "name": "stdout",
     "output_type": "stream",
     "text": [
      "Saving Fake.csv to Fake.csv\n",
      "Saving True.csv to True.csv\n"
     ]
    }
   ],
   "source": [
    "uploaded = files.upload()"
   ]
  },
  {
   "cell_type": "code",
   "execution_count": null,
   "metadata": {
    "colab": {},
    "colab_type": "code",
    "id": "j_qCpCRKiWPB"
   },
   "outputs": [],
   "source": [
    "fake_data = pd.read_csv(\"Fake.csv\")\n",
    "real_data = pd.read_csv(\"True.csv\")"
   ]
  },
  {
   "cell_type": "code",
   "execution_count": null,
   "metadata": {
    "colab": {
     "base_uri": "https://localhost:8080/",
     "height": 195
    },
    "colab_type": "code",
    "id": "esY5K_mUlagr",
    "outputId": "f3a744cc-fc6e-4c37-9035-1f014fbcca0b"
   },
   "outputs": [
    {
     "data": {
      "text/html": [
       "<div>\n",
       "<style scoped>\n",
       "    .dataframe tbody tr th:only-of-type {\n",
       "        vertical-align: middle;\n",
       "    }\n",
       "\n",
       "    .dataframe tbody tr th {\n",
       "        vertical-align: top;\n",
       "    }\n",
       "\n",
       "    .dataframe thead th {\n",
       "        text-align: right;\n",
       "    }\n",
       "</style>\n",
       "<table border=\"1\" class=\"dataframe\">\n",
       "  <thead>\n",
       "    <tr style=\"text-align: right;\">\n",
       "      <th></th>\n",
       "      <th>title</th>\n",
       "      <th>text</th>\n",
       "      <th>subject</th>\n",
       "      <th>date</th>\n",
       "    </tr>\n",
       "  </thead>\n",
       "  <tbody>\n",
       "    <tr>\n",
       "      <th>0</th>\n",
       "      <td>Donald Trump Sends Out Embarrassing New Year’...</td>\n",
       "      <td>Donald Trump just couldn t wish all Americans ...</td>\n",
       "      <td>News</td>\n",
       "      <td>December 31, 2017</td>\n",
       "    </tr>\n",
       "    <tr>\n",
       "      <th>1</th>\n",
       "      <td>Drunk Bragging Trump Staffer Started Russian ...</td>\n",
       "      <td>House Intelligence Committee Chairman Devin Nu...</td>\n",
       "      <td>News</td>\n",
       "      <td>December 31, 2017</td>\n",
       "    </tr>\n",
       "    <tr>\n",
       "      <th>2</th>\n",
       "      <td>Sheriff David Clarke Becomes An Internet Joke...</td>\n",
       "      <td>On Friday, it was revealed that former Milwauk...</td>\n",
       "      <td>News</td>\n",
       "      <td>December 30, 2017</td>\n",
       "    </tr>\n",
       "    <tr>\n",
       "      <th>3</th>\n",
       "      <td>Trump Is So Obsessed He Even Has Obama’s Name...</td>\n",
       "      <td>On Christmas day, Donald Trump announced that ...</td>\n",
       "      <td>News</td>\n",
       "      <td>December 29, 2017</td>\n",
       "    </tr>\n",
       "    <tr>\n",
       "      <th>4</th>\n",
       "      <td>Pope Francis Just Called Out Donald Trump Dur...</td>\n",
       "      <td>Pope Francis used his annual Christmas Day mes...</td>\n",
       "      <td>News</td>\n",
       "      <td>December 25, 2017</td>\n",
       "    </tr>\n",
       "  </tbody>\n",
       "</table>\n",
       "</div>"
      ],
      "text/plain": [
       "                                               title  ...               date\n",
       "0   Donald Trump Sends Out Embarrassing New Year’...  ...  December 31, 2017\n",
       "1   Drunk Bragging Trump Staffer Started Russian ...  ...  December 31, 2017\n",
       "2   Sheriff David Clarke Becomes An Internet Joke...  ...  December 30, 2017\n",
       "3   Trump Is So Obsessed He Even Has Obama’s Name...  ...  December 29, 2017\n",
       "4   Pope Francis Just Called Out Donald Trump Dur...  ...  December 25, 2017\n",
       "\n",
       "[5 rows x 4 columns]"
      ]
     },
     "execution_count": 53,
     "metadata": {
      "tags": []
     },
     "output_type": "execute_result"
    }
   ],
   "source": [
    "fake_data.head()"
   ]
  },
  {
   "cell_type": "code",
   "execution_count": null,
   "metadata": {
    "colab": {
     "base_uri": "https://localhost:8080/",
     "height": 195
    },
    "colab_type": "code",
    "id": "c6W4rhNIljdh",
    "outputId": "d142b97e-b072-44c7-efa1-ed175ccc6cb3"
   },
   "outputs": [
    {
     "data": {
      "text/html": [
       "<div>\n",
       "<style scoped>\n",
       "    .dataframe tbody tr th:only-of-type {\n",
       "        vertical-align: middle;\n",
       "    }\n",
       "\n",
       "    .dataframe tbody tr th {\n",
       "        vertical-align: top;\n",
       "    }\n",
       "\n",
       "    .dataframe thead th {\n",
       "        text-align: right;\n",
       "    }\n",
       "</style>\n",
       "<table border=\"1\" class=\"dataframe\">\n",
       "  <thead>\n",
       "    <tr style=\"text-align: right;\">\n",
       "      <th></th>\n",
       "      <th>title</th>\n",
       "      <th>text</th>\n",
       "      <th>subject</th>\n",
       "      <th>date</th>\n",
       "    </tr>\n",
       "  </thead>\n",
       "  <tbody>\n",
       "    <tr>\n",
       "      <th>0</th>\n",
       "      <td>As U.S. budget fight looms, Republicans flip t...</td>\n",
       "      <td>WASHINGTON (Reuters) - The head of a conservat...</td>\n",
       "      <td>politicsNews</td>\n",
       "      <td>December 31, 2017</td>\n",
       "    </tr>\n",
       "    <tr>\n",
       "      <th>1</th>\n",
       "      <td>U.S. military to accept transgender recruits o...</td>\n",
       "      <td>WASHINGTON (Reuters) - Transgender people will...</td>\n",
       "      <td>politicsNews</td>\n",
       "      <td>December 29, 2017</td>\n",
       "    </tr>\n",
       "    <tr>\n",
       "      <th>2</th>\n",
       "      <td>Senior U.S. Republican senator: 'Let Mr. Muell...</td>\n",
       "      <td>WASHINGTON (Reuters) - The special counsel inv...</td>\n",
       "      <td>politicsNews</td>\n",
       "      <td>December 31, 2017</td>\n",
       "    </tr>\n",
       "    <tr>\n",
       "      <th>3</th>\n",
       "      <td>FBI Russia probe helped by Australian diplomat...</td>\n",
       "      <td>WASHINGTON (Reuters) - Trump campaign adviser ...</td>\n",
       "      <td>politicsNews</td>\n",
       "      <td>December 30, 2017</td>\n",
       "    </tr>\n",
       "    <tr>\n",
       "      <th>4</th>\n",
       "      <td>Trump wants Postal Service to charge 'much mor...</td>\n",
       "      <td>SEATTLE/WASHINGTON (Reuters) - President Donal...</td>\n",
       "      <td>politicsNews</td>\n",
       "      <td>December 29, 2017</td>\n",
       "    </tr>\n",
       "  </tbody>\n",
       "</table>\n",
       "</div>"
      ],
      "text/plain": [
       "                                               title  ...                date\n",
       "0  As U.S. budget fight looms, Republicans flip t...  ...  December 31, 2017 \n",
       "1  U.S. military to accept transgender recruits o...  ...  December 29, 2017 \n",
       "2  Senior U.S. Republican senator: 'Let Mr. Muell...  ...  December 31, 2017 \n",
       "3  FBI Russia probe helped by Australian diplomat...  ...  December 30, 2017 \n",
       "4  Trump wants Postal Service to charge 'much mor...  ...  December 29, 2017 \n",
       "\n",
       "[5 rows x 4 columns]"
      ]
     },
     "execution_count": 54,
     "metadata": {
      "tags": []
     },
     "output_type": "execute_result"
    }
   ],
   "source": [
    "real_data.head()"
   ]
  },
  {
   "cell_type": "code",
   "execution_count": null,
   "metadata": {
    "colab": {
     "base_uri": "https://localhost:8080/",
     "height": 218
    },
    "colab_type": "code",
    "id": "W6IHKreHmSGl",
    "outputId": "d32c1ac9-c8fa-4cbb-9e7a-da813a1b10ac"
   },
   "outputs": [
    {
     "name": "stdout",
     "output_type": "stream",
     "text": [
      "For fake_data\n",
      "title      0\n",
      "text       0\n",
      "subject    0\n",
      "date       0\n",
      "dtype: int64\n",
      "For real_data\n",
      "title      0\n",
      "text       0\n",
      "subject    0\n",
      "date       0\n",
      "dtype: int64\n"
     ]
    }
   ],
   "source": [
    "#Print the number of missing values in both dataframes: real_data and fake_data\n",
    "print(\"For fake_data\")\n",
    "print(fake_data.isnull().sum())\n",
    "\n",
    "print(\"For real_data\")\n",
    "print(real_data.isnull().sum())"
   ]
  },
  {
   "cell_type": "code",
   "execution_count": null,
   "metadata": {
    "colab": {
     "base_uri": "https://localhost:8080/",
     "height": 286
    },
    "colab_type": "code",
    "id": "TU9SGpqinvZz",
    "outputId": "5e7c80f8-0906-4bf2-dfc1-0871e6a5dbdd"
   },
   "outputs": [
    {
     "name": "stdout",
     "output_type": "stream",
     "text": [
      "                                               title  ... label\n",
      "0   Donald Trump Sends Out Embarrassing New Year’...  ...     1\n",
      "1   Drunk Bragging Trump Staffer Started Russian ...  ...     1\n",
      "2   Sheriff David Clarke Becomes An Internet Joke...  ...     1\n",
      "3   Trump Is So Obsessed He Even Has Obama’s Name...  ...     1\n",
      "4   Pope Francis Just Called Out Donald Trump Dur...  ...     1\n",
      "\n",
      "[5 rows x 5 columns]\n",
      "                                               title  ... label\n",
      "0  As U.S. budget fight looms, Republicans flip t...  ...     0\n",
      "1  U.S. military to accept transgender recruits o...  ...     0\n",
      "2  Senior U.S. Republican senator: 'Let Mr. Muell...  ...     0\n",
      "3  FBI Russia probe helped by Australian diplomat...  ...     0\n",
      "4  Trump wants Postal Service to charge 'much mor...  ...     0\n",
      "\n",
      "[5 rows x 5 columns]\n"
     ]
    }
   ],
   "source": [
    "fake_data[\"label\"] = 1\n",
    "real_data[\"label\"] = 0\n",
    "print(fake_data.head())\n",
    "print(real_data.head())"
   ]
  },
  {
   "cell_type": "code",
   "execution_count": null,
   "metadata": {
    "colab": {
     "base_uri": "https://localhost:8080/",
     "height": 67
    },
    "colab_type": "code",
    "id": "UtaMkVMApkng",
    "outputId": "bbd0578d-8f60-4905-9aca-ae8d5bc65cb9"
   },
   "outputs": [
    {
     "name": "stdout",
     "output_type": "stream",
     "text": [
      "Dimension of Fake News: (23481, 5)\n",
      "Dimension of Real News: (21417, 5)\n",
      "Dimension of combined dataset: (44898, 5)\n"
     ]
    }
   ],
   "source": [
    "#Combine the both fake_data and real_data; shuffle the data; and split them into training and test dataset\n",
    "\n",
    "print(\"Dimension of Fake News:\", fake_data.shape)\n",
    "print(\"Dimension of Real News:\", real_data.shape)\n",
    "fake_real_data = pd.concat([fake_data,real_data])\n",
    "print(\"Dimension of combined dataset:\", fake_real_data.shape)\n",
    "fake_real_data = fake_real_data.sample(frac=1).reset_index(drop=True)"
   ]
  },
  {
   "cell_type": "code",
   "execution_count": null,
   "metadata": {
    "colab": {
     "base_uri": "https://localhost:8080/",
     "height": 34
    },
    "colab_type": "code",
    "id": "p39LVc_VviqU",
    "outputId": "a8300283-c284-4042-f4ab-33342de29a6c"
   },
   "outputs": [
    {
     "name": "stdout",
     "output_type": "stream",
     "text": [
      "Index(['title', 'text', 'subject', 'date', 'label', 'content'], dtype='object')\n"
     ]
    }
   ],
   "source": [
    "#Combining both healdlines and news content to form another column called \"content\"\n",
    "\n",
    "fake_real_data[\"content\"] = fake_real_data[\"title\"] + fake_real_data[\"text\"]\n",
    "print(fake_real_data.columns)"
   ]
  },
  {
   "cell_type": "code",
   "execution_count": null,
   "metadata": {
    "colab": {
     "base_uri": "https://localhost:8080/",
     "height": 50
    },
    "colab_type": "code",
    "id": "vNrgrD20-V8y",
    "outputId": "63fba9d2-c4d6-449a-d571-bedede3954a3"
   },
   "outputs": [
    {
     "name": "stdout",
     "output_type": "stream",
     "text": [
      "Dimension of training data: (31428,)\n",
      "Dimension of test data: (13470,)\n"
     ]
    }
   ],
   "source": [
    "#Splitting dataset into train and test dataset \n",
    "from sklearn.model_selection import train_test_split\n",
    "X_train, X_test, y_train, y_test = train_test_split(\n",
    "    fake_real_data[\"content\"], fake_real_data['label'], test_size=0.3, random_state=1)\n",
    "\n",
    "print(\"Dimension of training data:\", X_train.shape)\n",
    "print(\"Dimension of test data:\", X_test.shape)"
   ]
  },
  {
   "cell_type": "markdown",
   "metadata": {
    "colab_type": "text",
    "id": "zCdPwER4Hm-E"
   },
   "source": [
    "### **Text Pre-processing**"
   ]
  },
  {
   "cell_type": "markdown",
   "metadata": {
    "colab_type": "text",
    "id": "EXxLc8wdF3KL"
   },
   "source": [
    "### **Exploratory Analysis**\n"
   ]
  },
  {
   "cell_type": "markdown",
   "metadata": {
    "colab_type": "text",
    "id": "6dMByIwxF-4C"
   },
   "source": [
    "### **Word Embeddings** "
   ]
  },
  {
   "cell_type": "markdown",
   "metadata": {
    "colab_type": "text",
    "id": "FbhbtgzgGNcL"
   },
   "source": [
    "### **Classifiers**"
   ]
  },
  {
   "cell_type": "markdown",
   "metadata": {
    "colab_type": "text",
    "id": "XrwvShE8GRXq"
   },
   "source": [
    "### **Performance Evaluation**\n"
   ]
  },
  {
   "cell_type": "markdown",
   "metadata": {
    "colab_type": "text",
    "id": "lpmxvf5gHyiG"
   },
   "source": [
    "## **Future Work**\n",
    "\n",
    "I have used NLTK primarily for the analysis. The notebook will be continuously upated to give a comparison of preprocessing the text using NLTK and spaCy. Also, I intend to extend the notebook by implementing deep learning models for text classification. \n",
    "\n",
    "For information on other projects: [GitHub](https://github.com/dhanyajothimani) [Kaggle](https://www.kaggle.com/dhanyajothimani)\n"
   ]
  },
  {
   "cell_type": "markdown",
   "metadata": {
    "colab_type": "text",
    "id": "Zw4G02M9gBdU"
   },
   "source": [
    "### **References** \n",
    "\n",
    "Concepts compiled from various sources including Python package documentation, Data camp, and StackOverflow.\n",
    "\n",
    "Text for examples were taken from \"Anne from Green Gables\" and \"A Tale of Two Cities\"."
   ]
  }
 ],
 "metadata": {
  "colab": {
   "collapsed_sections": [
    "Q6nfRcgwIURU",
    "S7_PCNYyIa1w",
    "O534gEh4ImGu",
    "YTazaia3Ip-t",
    "-QbgBuIrInay",
    "A68wvoTdIq70",
    "09NXpVprqU2p"
   ],
   "name": "Insight_NLP_Workshop_July2.ipynb",
   "provenance": []
  },
  "kernelspec": {
   "display_name": "Python 3",
   "language": "python",
   "name": "python3"
  },
  "language_info": {
   "codemirror_mode": {
    "name": "ipython",
    "version": 3
   },
   "file_extension": ".py",
   "mimetype": "text/x-python",
   "name": "python",
   "nbconvert_exporter": "python",
   "pygments_lexer": "ipython3",
   "version": "3.7.6"
  }
 },
 "nbformat": 4,
 "nbformat_minor": 1
}
